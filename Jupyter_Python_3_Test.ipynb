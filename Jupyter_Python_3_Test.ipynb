{
 "cells": [
  {
   "cell_type": "markdown",
   "metadata": {
    "deletable": true,
    "editable": true
   },
   "source": [
    "# Hello, Jupyter Notebook\n",
    "\n",
    "Unordered list\n",
    "* a\n",
    "* b\n"
   ]
  },
  {
   "cell_type": "code",
   "execution_count": 19,
   "metadata": {
    "collapsed": false,
    "deletable": true,
    "editable": true,
    "scrolled": true
   },
   "outputs": [],
   "source": [
    "%matplotlib inline\n",
    "import numpy as np\n",
    "import matplotlib.pyplot as plt\n",
    "import pandas as pd"
   ]
  },
  {
   "cell_type": "code",
   "execution_count": 20,
   "metadata": {
    "collapsed": false,
    "deletable": true,
    "editable": true
   },
   "outputs": [
    {
     "name": "stdout",
     "output_type": "stream",
     "text": [
      "\u001b[31mAsheville_details.csv\u001b[m\u001b[m       \u001b[31mNewYork_summary.csv\u001b[m\u001b[m\r\n",
      "\u001b[31mAsheville_summary.csv\u001b[m\u001b[m       \u001b[31mOakland_details.csv\u001b[m\u001b[m\r\n",
      "\u001b[31mAustin_details.csv\u001b[m\u001b[m          \u001b[31mOakland_summary.csv\u001b[m\u001b[m\r\n",
      "\u001b[31mAustin_summary.csv\u001b[m\u001b[m          \u001b[31mPortland_details.csv\u001b[m\u001b[m\r\n",
      "\u001b[31mBoston_details.csv\u001b[m\u001b[m          \u001b[31mPortland_summary.csv\u001b[m\u001b[m\r\n",
      "\u001b[31mBoston_summary.csv\u001b[m\u001b[m          \u001b[31mSanDiego_details.csv\u001b[m\u001b[m\r\n",
      "\u001b[31mChicago_details.csv\u001b[m\u001b[m         \u001b[31mSanDiego_summary.csv\u001b[m\u001b[m\r\n",
      "\u001b[31mChicago_summary.csv\u001b[m\u001b[m         \u001b[31mSanFrancisco_details.csv\u001b[m\u001b[m\r\n",
      "\u001b[31mDenver_details.csv\u001b[m\u001b[m          SanFrancisco_details.xlsx\r\n",
      "\u001b[31mDenver_summary.csv\u001b[m\u001b[m          \u001b[31mSanFrancisco_summary.csv\u001b[m\u001b[m\r\n",
      "\u001b[31mLosAngeles_details.csv\u001b[m\u001b[m      \u001b[31mSantaCruz_details.csv\u001b[m\u001b[m\r\n",
      "\u001b[31mLosAngeles_summary.csv\u001b[m\u001b[m      \u001b[31mSantaCruz_summary.csv\u001b[m\u001b[m\r\n",
      "\u001b[31mNashville_details.csv\u001b[m\u001b[m       \u001b[31mSeattle_details.csv\u001b[m\u001b[m\r\n",
      "\u001b[31mNashville_summary.csv\u001b[m\u001b[m       \u001b[31mSeattle_summary.csv\u001b[m\u001b[m\r\n",
      "\u001b[31mNewOrleans_details.csv\u001b[m\u001b[m      \u001b[31mWashington_details.csv\u001b[m\u001b[m\r\n",
      "\u001b[31mNewOrleans_summary.csv\u001b[m\u001b[m      \u001b[31mWashington_summary.csv\u001b[m\u001b[m\r\n",
      "\u001b[31mNewYork_details.csv\u001b[m\u001b[m         ~$SanFrancisco_details.xlsx\r\n"
     ]
    }
   ],
   "source": [
    "!ls data/Airbnb/"
   ]
  },
  {
   "cell_type": "code",
   "execution_count": 49,
   "metadata": {
    "collapsed": false,
    "deletable": true,
    "editable": true
   },
   "outputs": [
    {
     "name": "stdout",
     "output_type": "stream",
     "text": [
      "   0  1  2  3  4  5  6  7  8  9\n",
      "0  8  3  7  0  7  4  1  0  6  9\n",
      "1  5  9  7  1  5  4  9  3  1  0\n",
      "2  2  1  8  5  4  9  4  1  9  5\n",
      "3  6  6  0  1  5  6  0  7  9  9\n",
      "4  4  9  2  4  8  3  0  0  0  4\n"
     ]
    }
   ],
   "source": [
    "# Pandas DataFrame demo\n",
    "np.random.seed(11634)\n",
    "r = np.random.randint(10, None, size=(5, 10))\n",
    "df = pd.DataFrame(r)\n",
    "print(df)"
   ]
  },
  {
   "cell_type": "code",
   "execution_count": 22,
   "metadata": {
    "collapsed": false,
    "deletable": true,
    "editable": true
   },
   "outputs": [
    {
     "data": {
      "image/png": "[encoded data removed]",
      "text/plain": [
       "<matplotlib.figure.Figure at 0x10ce710f0>"
      ]
     },
     "metadata": {},
     "output_type": "display_data"
    }
   ],
   "source": [
    "X = np.arange(0, 10.01, 0.1)\n",
    "plt.plot(X, np.sin(X))\n",
    "plt.show()"
   ]
  },
  {
   "cell_type": "code",
   "execution_count": null,
   "metadata": {
    "collapsed": false,
    "deletable": true,
    "editable": true
   },
   "outputs": [],
   "source": []
  },
  {
   "cell_type": "code",
   "execution_count": null,
   "metadata": {
    "collapsed": true,
    "deletable": true,
    "editable": true
   },
   "outputs": [],
   "source": []
  },
  {
   "cell_type": "code",
   "execution_count": null,
   "metadata": {
    "collapsed": true,
    "deletable": true,
    "editable": true
   },
   "outputs": [],
   "source": []
  },
  {
   "cell_type": "code",
   "execution_count": null,
   "metadata": {
    "collapsed": true,
    "deletable": true,
    "editable": true
   },
   "outputs": [],
   "source": []
  },
  {
   "cell_type": "code",
   "execution_count": null,
   "metadata": {
    "collapsed": true,
    "deletable": true,
    "editable": true
   },
   "outputs": [],
   "source": []
  }
 ],
 "metadata": {
  "kernelspec": {
   "display_name": "Python 3",
   "language": "python",
   "name": "python3"
  },
  "language_info": {
   "codemirror_mode": {
    "name": "ipython",
    "version": 3
   },
   "file_extension": ".py",
   "mimetype": "text/x-python",
   "name": "python",
   "nbconvert_exporter": "python",
   "pygments_lexer": "ipython3",
   "version": "3.6.0"
  }
 },
 "nbformat": 4,
 "nbformat_minor": 2
}
